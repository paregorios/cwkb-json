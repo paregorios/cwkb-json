{
 "cells": [
  {
   "cell_type": "code",
   "execution_count": 1,
   "metadata": {},
   "outputs": [],
   "source": [
    "import json\n",
    "with open('json/cwkb.json', 'r', encoding='utf-8') as f:\n",
    "    j = json.load(f)\n",
    "del f\n"
   ]
  },
  {
   "cell_type": "code",
   "execution_count": 2,
   "metadata": {},
   "outputs": [
    {
     "name": "stdout",
     "output_type": "stream",
     "text": [
      "dict_keys(['metadata', 'authors'])\n",
      "1548\n",
      "namespace: \"http://dublincore.org/documents/dcmi-terms/\"\n",
      "title: \"Classical Works Knowledge Base in JSON\"\n",
      "source: \"http://cwkb.org/allrecords/rdf\"\n",
      "type: \"dataset\"\n",
      "format: \"application/json\"\n",
      "abstract: \"All authors and works identified in the CWKB Linked Data release, arranged heirarchically into a list of authors, each with a subordinate \"works\" list, all serialized into JavaScript Object Notation (JSON) format. Keys for authors and works make use of the unique identifying numbers found in the original CWKB RDF (e.g., where CWBK assigns an identifier like \"http://cwkb.org/work/id/7960/rdf\", the key value \"7960\" appear sin the appropriate JSON \"works\" array). Alternate names and abbreviations for authors, as well as titles and abbreviations for works, have also been replicated, as have external identifiers used by the Perseus Digital Library, the Packard Humanities Institute's online Latin texts, etc. The purpose of this JSON serialization is to facilitate use of the CWKB in web applications and other environments.\"\n",
      "modified: \"2017-11-27T08:29:46.689-06:00\"\n",
      "license: \"Noncommercial, educational, charitable, and scholarly users may\n",
      "                use, reproduce or display all or part of the CWKB for teaching or scholarly\n",
      "                purposes; on a projection, computer or television screen; in classroom materials; or\n",
      "                in other scholarly or teaching devices without incurring a publication or usage\n",
      "                fee.\"\n"
     ]
    }
   ],
   "source": [
    "from pprint import pformat, pprint\n",
    "print(j.keys())\n",
    "print(len(j['authors']))\n",
    "for k, v in j['metadata'].items():\n",
    "    if type(v) is str:\n",
    "        print('{}: \"{}\"'.format(k, v))\n",
    "\n"
   ]
  },
  {
   "cell_type": "code",
   "execution_count": null,
   "metadata": {},
   "outputs": [],
   "source": []
  }
 ],
 "metadata": {
  "kernelspec": {
   "display_name": "cwkb-json",
   "language": "python",
   "name": "cwkb-json"
  },
  "language_info": {
   "codemirror_mode": {
    "name": "ipython",
    "version": 3
   },
   "file_extension": ".py",
   "mimetype": "text/x-python",
   "name": "python",
   "nbconvert_exporter": "python",
   "pygments_lexer": "ipython3",
   "version": "3.6.1"
  }
 },
 "nbformat": 4,
 "nbformat_minor": 2
}
